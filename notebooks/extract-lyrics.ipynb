{
 "cells": [
  {
   "cell_type": "code",
   "execution_count": 1,
   "id": "e0d4f754-044f-4aeb-889a-79ed79079925",
   "metadata": {},
   "outputs": [
    {
     "name": "stderr",
     "output_type": "stream",
     "text": [
      "2024-06-05 12:02:49.321666: I tensorflow/core/platform/cpu_feature_guard.cc:210] This TensorFlow binary is optimized to use available CPU instructions in performance-critical operations.\n",
      "To enable the following instructions: AVX2 FMA, in other operations, rebuild TensorFlow with the appropriate compiler flags.\n",
      "/Users/antoinemertz/.pyenv/versions/3.11.9/envs/search-song/lib/python3.11/site-packages/threadpoolctl.py:1214: RuntimeWarning: \n",
      "Found Intel OpenMP ('libiomp') and LLVM OpenMP ('libomp') loaded at\n",
      "the same time. Both libraries are known to be incompatible and this\n",
      "can cause random crashes or deadlocks on Linux when loaded in the\n",
      "same Python program.\n",
      "Using threadpoolctl may cause crashes or deadlocks. For more\n",
      "information and possible workarounds, please see\n",
      "    https://github.com/joblib/threadpoolctl/blob/master/multiple_openmp.md\n",
      "\n",
      "  warnings.warn(msg, RuntimeWarning)\n"
     ]
    }
   ],
   "source": [
    "# importing packages \n",
    "from transformers import AutoModelForSpeechSeq2Seq, AutoProcessor, pipeline\n",
    "import os\n",
    "from tqdm import tqdm"
   ]
  },
  {
   "cell_type": "code",
   "execution_count": 2,
   "id": "e52dcb54-c6ea-4fee-be22-b0201905db43",
   "metadata": {},
   "outputs": [
    {
     "name": "stderr",
     "output_type": "stream",
     "text": [
      "Special tokens have been added in the vocabulary, make sure the associated word embeddings are fine-tuned or trained.\n"
     ]
    }
   ],
   "source": [
    "model_id = \"openai/whisper-medium\"    # define the model\n",
    "model = AutoModelForSpeechSeq2Seq.from_pretrained(\n",
    "    model_id)\n",
    "\n",
    "processor = AutoProcessor.from_pretrained(model_id)\n",
    "\n",
    "# create the pipeline\n",
    "pipe = pipeline(\n",
    "    \"automatic-speech-recognition\",\n",
    "    model=model,\n",
    "    tokenizer=processor.tokenizer,\n",
    "    feature_extractor=processor.feature_extractor,\n",
    "    max_new_tokens=128,\n",
    "    chunk_length_s=30,\n",
    "    batch_size=16,\n",
    "    return_timestamps=True)"
   ]
  },
  {
   "cell_type": "code",
   "execution_count": 3,
   "id": "8ee899be-adec-44ae-88da-58e9739588cb",
   "metadata": {},
   "outputs": [
    {
     "name": "stderr",
     "output_type": "stream",
     "text": [
      "100%|███████████████████████████████████████████████████████████████████████████████████████████████████████████████████████████████████████████████████████████████████| 146/146 [2:26:56<00:00, 60.39s/it]\n"
     ]
    }
   ],
   "source": [
    "songs = [file for file in os.listdir(\"../data/songs\") if file.endswith(\".mp3\")]\n",
    "\n",
    "for song in tqdm(songs):\n",
    "    name = ''.join((song).split('.')[:-1])\n",
    "    if not os.path.exists(f\"../data/lyrics-hyp/{name}.txt\"):\n",
    "        hypothesis_lyrics = pipe(f\"../data/songs/{song}\", return_timestamps=False, generate_kwargs={\"language\": \"fr\"})\n",
    "        hypothesis_lyrics = hypothesis_lyrics[\"text\"]\n",
    "\n",
    "        name = ''.join((song).split('.')[:-1])\n",
    "\n",
    "        with open(f\"../data/lyrics-hyp/{name}.txt\", \"w\") as file:\n",
    "            file.write(hypothesis_lyrics)"
   ]
  },
  {
   "cell_type": "code",
   "execution_count": 27,
   "id": "3957389f-32ce-48e5-b44b-5ff15583c5b5",
   "metadata": {},
   "outputs": [],
   "source": [
    "import jiwer\n",
    "\n",
    "\n",
    "transforms = jiwer.Compose(\n",
    "    [\n",
    "        jiwer.ExpandCommonEnglishContractions(),\n",
    "        jiwer.RemoveEmptyStrings(),\n",
    "        jiwer.ToLowerCase(),\n",
    "        jiwer.RemoveMultipleSpaces(),\n",
    "        jiwer.Strip(),\n",
    "        jiwer.RemovePunctuation(),\n",
    "        jiwer.ReduceToListOfListOfWords(),\n",
    "    ]\n",
    ")"
   ]
  },
  {
   "cell_type": "code",
   "execution_count": 30,
   "id": "bc74d518-2027-459b-bd2b-55bb93489928",
   "metadata": {},
   "outputs": [],
   "source": [
    "true = \"Tombe la neige Tu ne viendras pas ce soir Tombe la neige Et mon coeur s'habille de noir Ce soyeux cortege Tout en larmes blanches L'oiseau sur la branche Pleure le sortilege Tu ne viendras pas ce soir Me crie mon désespoir Mais tombe la neige Impassible manege Tombe la neige Tu ne viendras pas ce soir Tombe la neige Tout est blanc de désespoir Triste certitude Le froid et l'absence Cet odieux silence Blanche solitude Tu ne viendras pas ce soir Me crie mon désespoir Mais tombe la neige Impassible manege\""
   ]
  },
  {
   "cell_type": "code",
   "execution_count": 31,
   "id": "388a1d83-8be1-445c-a7a5-4e581ff91eac",
   "metadata": {},
   "outputs": [
    {
     "name": "stdout",
     "output_type": "stream",
     "text": [
      "Word Error Rate (WER) : 0.1956521739130435\n"
     ]
    }
   ],
   "source": [
    "wer = jiwer.wer(\n",
    "                true,\n",
    "                result,\n",
    "                truth_transform=transforms,\n",
    "                hypothesis_transform=transforms,\n",
    "            )\n",
    "print(f\"Word Error Rate (WER) :\", wer)"
   ]
  },
  {
   "cell_type": "code",
   "execution_count": null,
   "id": "353101eb-82c6-4a0e-a38a-8f071312bdf3",
   "metadata": {},
   "outputs": [],
   "source": []
  }
 ],
 "metadata": {
  "kernelspec": {
   "display_name": "Python 3 (ipykernel)",
   "language": "python",
   "name": "python3"
  },
  "language_info": {
   "codemirror_mode": {
    "name": "ipython",
    "version": 3
   },
   "file_extension": ".py",
   "mimetype": "text/x-python",
   "name": "python",
   "nbconvert_exporter": "python",
   "pygments_lexer": "ipython3",
   "version": "3.11.9"
  }
 },
 "nbformat": 4,
 "nbformat_minor": 5
}
