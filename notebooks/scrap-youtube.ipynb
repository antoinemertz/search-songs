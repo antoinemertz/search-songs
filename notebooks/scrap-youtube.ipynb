{
 "cells": [
  {
   "cell_type": "code",
   "execution_count": 11,
   "id": "e0d4f754-044f-4aeb-889a-79ed79079925",
   "metadata": {},
   "outputs": [],
   "source": [
    "# importing packages \n",
    "from pytube import YouTube, Playlist\n",
    "from pytube.exceptions import AgeRestrictedError\n",
    "from tqdm import tqdm\n",
    "import os\n",
    "import warnings"
   ]
  },
  {
   "cell_type": "code",
   "execution_count": 12,
   "id": "e52dcb54-c6ea-4fee-be22-b0201905db43",
   "metadata": {},
   "outputs": [],
   "source": [
    "URL_PLAYLIST = \"https://www.youtube.com/playlist?list=PL4N9oNbOHXBUqAU7etRfVkj8vtznT5Rf2\""
   ]
  },
  {
   "cell_type": "code",
   "execution_count": 13,
   "id": "8ee899be-adec-44ae-88da-58e9739588cb",
   "metadata": {},
   "outputs": [
    {
     "name": "stdout",
     "output_type": "stream",
     "text": [
      "Number Of Videos In playlist: 151\n"
     ]
    }
   ],
   "source": [
    "# Retrieve URLs of videos from playlist\n",
    "playlist = Playlist(URL_PLAYLIST)\n",
    "print(f\"Number of videos in playlist: {len(playlist.video_urls)}\")"
   ]
  },
  {
   "cell_type": "code",
   "execution_count": 14,
   "id": "c2b7dcb2-044a-4070-8657-38484e1279cf",
   "metadata": {},
   "outputs": [
    {
     "name": "stderr",
     "output_type": "stream",
     "text": [
      "100%|█████████████████████████████████████████████████████████████████████████████████████████████████████████████████████████████████████████████████████████████████████| 151/151 [11:26<00:00,  4.55s/it]\n"
     ]
    }
   ],
   "source": [
    "for url in tqdm(playlist[2]):\n",
    "    # url input from user\n",
    "    yt = YouTube(url)\n",
    "    # extract only audio\n",
    "    try:\n",
    "        video = yt.streams.filter(only_audio=True).first()\n",
    "    \n",
    "        # check for destination to save file\n",
    "        out_file = video.download(output_path=\"../data/songs/\")\n",
    "    \n",
    "        # save the file\n",
    "        base, ext = os.path.splitext(out_file)\n",
    "        new_file = base + '.mp3'\n",
    "        os.rename(out_file, new_file)\n",
    "    except AgeRestrictedError:\n",
    "        warnings.warn(f\"Video {url} cannot be downloaded (age restriction)\")\n",
    "        pass"
   ]
  },
  {
   "cell_type": "code",
   "execution_count": 19,
   "id": "94918cbb-461a-44b4-a7a7-c4722fd9443a",
   "metadata": {},
   "outputs": [
    {
     "name": "stdout",
     "output_type": "stream",
     "text": [
      "There are 146 files downloaded on the 151\n"
     ]
    }
   ],
   "source": [
    "songs = [file for file in os.listdir(\"../data/songs\") if file.endswith(\".mp3\")]\n",
    "print(f\"There are {len(songs)} files downloaded on the {len(playlist.video_urls)}\")"
   ]
  },
  {
   "cell_type": "code",
   "execution_count": null,
   "id": "bc74d518-2027-459b-bd2b-55bb93489928",
   "metadata": {},
   "outputs": [],
   "source": []
  }
 ],
 "metadata": {
  "kernelspec": {
   "display_name": "Python 3 (ipykernel)",
   "language": "python",
   "name": "python3"
  },
  "language_info": {
   "codemirror_mode": {
    "name": "ipython",
    "version": 3
   },
   "file_extension": ".py",
   "mimetype": "text/x-python",
   "name": "python",
   "nbconvert_exporter": "python",
   "pygments_lexer": "ipython3",
   "version": "3.11.9"
  }
 },
 "nbformat": 4,
 "nbformat_minor": 5
}
